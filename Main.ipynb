{
 "cells": [
  {
   "cell_type": "code",
   "execution_count": 268,
   "id": "0eafde3f-b5ab-40e3-90ba-276c40099be7",
   "metadata": {},
   "outputs": [],
   "source": [
    "import pandas as pd\n",
    "import numpy as np\n",
    "import matplotlib.pyplot as plt\n",
    "import seaborn as sns\n",
    "%matplotlib inline"
   ]
  },
  {
   "cell_type": "code",
   "execution_count": 270,
   "id": "d3c6bcc4-7f14-4720-b2d3-8b15d50f36b6",
   "metadata": {},
   "outputs": [
    {
     "data": {
      "text/html": [
       "<div>\n",
       "<style scoped>\n",
       "    .dataframe tbody tr th:only-of-type {\n",
       "        vertical-align: middle;\n",
       "    }\n",
       "\n",
       "    .dataframe tbody tr th {\n",
       "        vertical-align: top;\n",
       "    }\n",
       "\n",
       "    .dataframe thead th {\n",
       "        text-align: right;\n",
       "    }\n",
       "</style>\n",
       "<table border=\"1\" class=\"dataframe\">\n",
       "  <thead>\n",
       "    <tr style=\"text-align: right;\">\n",
       "      <th></th>\n",
       "      <th>Date</th>\n",
       "      <th>MLII (mV)</th>\n",
       "      <th>V5 (mV)</th>\n",
       "      <th>Heart Rate (BPM)</th>\n",
       "      <th>R-R Interval (ms)</th>\n",
       "      <th>HRV (RMSSD, ms)</th>\n",
       "    </tr>\n",
       "  </thead>\n",
       "  <tbody>\n",
       "    <tr>\n",
       "      <th>0</th>\n",
       "      <td>2023-01-01</td>\n",
       "      <td>0.017720</td>\n",
       "      <td>-1.956966</td>\n",
       "      <td>77</td>\n",
       "      <td>779.220779</td>\n",
       "      <td>18.329647</td>\n",
       "    </tr>\n",
       "    <tr>\n",
       "      <th>1</th>\n",
       "      <td>2023-01-02</td>\n",
       "      <td>0.830243</td>\n",
       "      <td>-0.475035</td>\n",
       "      <td>67</td>\n",
       "      <td>895.522388</td>\n",
       "      <td>69.703772</td>\n",
       "    </tr>\n",
       "    <tr>\n",
       "      <th>2</th>\n",
       "      <td>2023-01-03</td>\n",
       "      <td>-0.393338</td>\n",
       "      <td>-0.631267</td>\n",
       "      <td>96</td>\n",
       "      <td>625.000000</td>\n",
       "      <td>31.678362</td>\n",
       "    </tr>\n",
       "    <tr>\n",
       "      <th>3</th>\n",
       "      <td>2023-01-04</td>\n",
       "      <td>0.754272</td>\n",
       "      <td>-0.492413</td>\n",
       "      <td>73</td>\n",
       "      <td>821.917808</td>\n",
       "      <td>43.795005</td>\n",
       "    </tr>\n",
       "    <tr>\n",
       "      <th>4</th>\n",
       "      <td>2023-01-05</td>\n",
       "      <td>1.339708</td>\n",
       "      <td>-1.427578</td>\n",
       "      <td>63</td>\n",
       "      <td>952.380952</td>\n",
       "      <td>37.724553</td>\n",
       "    </tr>\n",
       "  </tbody>\n",
       "</table>\n",
       "</div>"
      ],
      "text/plain": [
       "         Date  MLII (mV)   V5 (mV)  Heart Rate (BPM)  R-R Interval (ms)  \\\n",
       "0  2023-01-01   0.017720 -1.956966                77         779.220779   \n",
       "1  2023-01-02   0.830243 -0.475035                67         895.522388   \n",
       "2  2023-01-03  -0.393338 -0.631267                96         625.000000   \n",
       "3  2023-01-04   0.754272 -0.492413                73         821.917808   \n",
       "4  2023-01-05   1.339708 -1.427578                63         952.380952   \n",
       "\n",
       "   HRV (RMSSD, ms)  \n",
       "0        18.329647  \n",
       "1        69.703772  \n",
       "2        31.678362  \n",
       "3        43.795005  \n",
       "4        37.724553  "
      ]
     },
     "execution_count": 270,
     "metadata": {},
     "output_type": "execute_result"
    }
   ],
   "source": [
    "dataset=pd.read_csv('heartbeat_data.csv')\n",
    "df=dataset\n",
    "dataset.head()"
   ]
  },
  {
   "cell_type": "code",
   "execution_count": 272,
   "id": "95bf9efa-46ff-4647-9692-f8e1e6d2154c",
   "metadata": {},
   "outputs": [
    {
     "data": {
      "text/html": [
       "<div>\n",
       "<style scoped>\n",
       "    .dataframe tbody tr th:only-of-type {\n",
       "        vertical-align: middle;\n",
       "    }\n",
       "\n",
       "    .dataframe tbody tr th {\n",
       "        vertical-align: top;\n",
       "    }\n",
       "\n",
       "    .dataframe thead th {\n",
       "        text-align: right;\n",
       "    }\n",
       "</style>\n",
       "<table border=\"1\" class=\"dataframe\">\n",
       "  <thead>\n",
       "    <tr style=\"text-align: right;\">\n",
       "      <th></th>\n",
       "      <th>MLII (mV)</th>\n",
       "      <th>V5 (mV)</th>\n",
       "      <th>Heart Rate (BPM)</th>\n",
       "      <th>R-R Interval (ms)</th>\n",
       "      <th>HRV (RMSSD, ms)</th>\n",
       "    </tr>\n",
       "  </thead>\n",
       "  <tbody>\n",
       "    <tr>\n",
       "      <th>MLII (mV)</th>\n",
       "      <td>1.000000</td>\n",
       "      <td>0.006311</td>\n",
       "      <td>-0.032866</td>\n",
       "      <td>0.033061</td>\n",
       "      <td>0.004668</td>\n",
       "    </tr>\n",
       "    <tr>\n",
       "      <th>V5 (mV)</th>\n",
       "      <td>0.006311</td>\n",
       "      <td>1.000000</td>\n",
       "      <td>0.005232</td>\n",
       "      <td>-0.006462</td>\n",
       "      <td>-0.010399</td>\n",
       "    </tr>\n",
       "    <tr>\n",
       "      <th>Heart Rate (BPM)</th>\n",
       "      <td>-0.032866</td>\n",
       "      <td>0.005232</td>\n",
       "      <td>1.000000</td>\n",
       "      <td>-0.991358</td>\n",
       "      <td>0.002966</td>\n",
       "    </tr>\n",
       "    <tr>\n",
       "      <th>R-R Interval (ms)</th>\n",
       "      <td>0.033061</td>\n",
       "      <td>-0.006462</td>\n",
       "      <td>-0.991358</td>\n",
       "      <td>1.000000</td>\n",
       "      <td>-0.001026</td>\n",
       "    </tr>\n",
       "    <tr>\n",
       "      <th>HRV (RMSSD, ms)</th>\n",
       "      <td>0.004668</td>\n",
       "      <td>-0.010399</td>\n",
       "      <td>0.002966</td>\n",
       "      <td>-0.001026</td>\n",
       "      <td>1.000000</td>\n",
       "    </tr>\n",
       "  </tbody>\n",
       "</table>\n",
       "</div>"
      ],
      "text/plain": [
       "                   MLII (mV)   V5 (mV)  Heart Rate (BPM)  R-R Interval (ms)  \\\n",
       "MLII (mV)           1.000000  0.006311         -0.032866           0.033061   \n",
       "V5 (mV)             0.006311  1.000000          0.005232          -0.006462   \n",
       "Heart Rate (BPM)   -0.032866  0.005232          1.000000          -0.991358   \n",
       "R-R Interval (ms)   0.033061 -0.006462         -0.991358           1.000000   \n",
       "HRV (RMSSD, ms)     0.004668 -0.010399          0.002966          -0.001026   \n",
       "\n",
       "                   HRV (RMSSD, ms)  \n",
       "MLII (mV)                 0.004668  \n",
       "V5 (mV)                  -0.010399  \n",
       "Heart Rate (BPM)          0.002966  \n",
       "R-R Interval (ms)        -0.001026  \n",
       "HRV (RMSSD, ms)           1.000000  "
      ]
     },
     "execution_count": 272,
     "metadata": {},
     "output_type": "execute_result"
    }
   ],
   "source": [
    "df.drop('Date',axis=1).corr()"
   ]
  },
  {
   "cell_type": "code",
   "execution_count": 274,
   "id": "a63c8538-1e48-4897-8e8b-53ef016ebfa0",
   "metadata": {},
   "outputs": [
    {
     "data": {
      "text/html": [
       "<div>\n",
       "<style scoped>\n",
       "    .dataframe tbody tr th:only-of-type {\n",
       "        vertical-align: middle;\n",
       "    }\n",
       "\n",
       "    .dataframe tbody tr th {\n",
       "        vertical-align: top;\n",
       "    }\n",
       "\n",
       "    .dataframe thead th {\n",
       "        text-align: right;\n",
       "    }\n",
       "</style>\n",
       "<table border=\"1\" class=\"dataframe\">\n",
       "  <thead>\n",
       "    <tr style=\"text-align: right;\">\n",
       "      <th></th>\n",
       "      <th>Date</th>\n",
       "      <th>MLII (mV)</th>\n",
       "      <th>V5 (mV)</th>\n",
       "      <th>Heart Rate (BPM)</th>\n",
       "      <th>R-R Interval (ms)</th>\n",
       "      <th>HRV (RMSSD, ms)</th>\n",
       "    </tr>\n",
       "  </thead>\n",
       "  <tbody>\n",
       "    <tr>\n",
       "      <th>0</th>\n",
       "      <td>2023-01-01</td>\n",
       "      <td>0.017720</td>\n",
       "      <td>-1.956966</td>\n",
       "      <td>77</td>\n",
       "      <td>779.220779</td>\n",
       "      <td>18.329647</td>\n",
       "    </tr>\n",
       "    <tr>\n",
       "      <th>1</th>\n",
       "      <td>2023-01-02</td>\n",
       "      <td>0.830243</td>\n",
       "      <td>-0.475035</td>\n",
       "      <td>67</td>\n",
       "      <td>895.522388</td>\n",
       "      <td>69.703772</td>\n",
       "    </tr>\n",
       "    <tr>\n",
       "      <th>2</th>\n",
       "      <td>2023-01-03</td>\n",
       "      <td>-0.393338</td>\n",
       "      <td>-0.631267</td>\n",
       "      <td>96</td>\n",
       "      <td>625.000000</td>\n",
       "      <td>31.678362</td>\n",
       "    </tr>\n",
       "    <tr>\n",
       "      <th>3</th>\n",
       "      <td>2023-01-04</td>\n",
       "      <td>0.754272</td>\n",
       "      <td>-0.492413</td>\n",
       "      <td>73</td>\n",
       "      <td>821.917808</td>\n",
       "      <td>43.795005</td>\n",
       "    </tr>\n",
       "    <tr>\n",
       "      <th>4</th>\n",
       "      <td>2023-01-05</td>\n",
       "      <td>1.339708</td>\n",
       "      <td>-1.427578</td>\n",
       "      <td>63</td>\n",
       "      <td>952.380952</td>\n",
       "      <td>37.724553</td>\n",
       "    </tr>\n",
       "  </tbody>\n",
       "</table>\n",
       "</div>"
      ],
      "text/plain": [
       "         Date  MLII (mV)   V5 (mV)  Heart Rate (BPM)  R-R Interval (ms)  \\\n",
       "0  2023-01-01   0.017720 -1.956966                77         779.220779   \n",
       "1  2023-01-02   0.830243 -0.475035                67         895.522388   \n",
       "2  2023-01-03  -0.393338 -0.631267                96         625.000000   \n",
       "3  2023-01-04   0.754272 -0.492413                73         821.917808   \n",
       "4  2023-01-05   1.339708 -1.427578                63         952.380952   \n",
       "\n",
       "   HRV (RMSSD, ms)  \n",
       "0        18.329647  \n",
       "1        69.703772  \n",
       "2        31.678362  \n",
       "3        43.795005  \n",
       "4        37.724553  "
      ]
     },
     "execution_count": 274,
     "metadata": {},
     "output_type": "execute_result"
    }
   ],
   "source": [
    "df.head()"
   ]
  },
  {
   "cell_type": "code",
   "execution_count": 276,
   "id": "fc8d9694-d33f-4091-9dd6-4d0ff991c600",
   "metadata": {},
   "outputs": [
    {
     "data": {
      "text/html": [
       "<div>\n",
       "<style scoped>\n",
       "    .dataframe tbody tr th:only-of-type {\n",
       "        vertical-align: middle;\n",
       "    }\n",
       "\n",
       "    .dataframe tbody tr th {\n",
       "        vertical-align: top;\n",
       "    }\n",
       "\n",
       "    .dataframe thead th {\n",
       "        text-align: right;\n",
       "    }\n",
       "</style>\n",
       "<table border=\"1\" class=\"dataframe\">\n",
       "  <thead>\n",
       "    <tr style=\"text-align: right;\">\n",
       "      <th></th>\n",
       "      <th>MLII (mV)</th>\n",
       "      <th>V5 (mV)</th>\n",
       "      <th>R-R Interval (ms)</th>\n",
       "    </tr>\n",
       "  </thead>\n",
       "  <tbody>\n",
       "    <tr>\n",
       "      <th>0</th>\n",
       "      <td>0.017720</td>\n",
       "      <td>-1.956966</td>\n",
       "      <td>779.220779</td>\n",
       "    </tr>\n",
       "    <tr>\n",
       "      <th>1</th>\n",
       "      <td>0.830243</td>\n",
       "      <td>-0.475035</td>\n",
       "      <td>895.522388</td>\n",
       "    </tr>\n",
       "    <tr>\n",
       "      <th>2</th>\n",
       "      <td>-0.393338</td>\n",
       "      <td>-0.631267</td>\n",
       "      <td>625.000000</td>\n",
       "    </tr>\n",
       "    <tr>\n",
       "      <th>3</th>\n",
       "      <td>0.754272</td>\n",
       "      <td>-0.492413</td>\n",
       "      <td>821.917808</td>\n",
       "    </tr>\n",
       "    <tr>\n",
       "      <th>4</th>\n",
       "      <td>1.339708</td>\n",
       "      <td>-1.427578</td>\n",
       "      <td>952.380952</td>\n",
       "    </tr>\n",
       "    <tr>\n",
       "      <th>...</th>\n",
       "      <td>...</td>\n",
       "      <td>...</td>\n",
       "      <td>...</td>\n",
       "    </tr>\n",
       "    <tr>\n",
       "      <th>726</th>\n",
       "      <td>-2.126399</td>\n",
       "      <td>-0.835561</td>\n",
       "      <td>689.655172</td>\n",
       "    </tr>\n",
       "    <tr>\n",
       "      <th>727</th>\n",
       "      <td>-1.979595</td>\n",
       "      <td>2.119204</td>\n",
       "      <td>714.285714</td>\n",
       "    </tr>\n",
       "    <tr>\n",
       "      <th>728</th>\n",
       "      <td>-1.755734</td>\n",
       "      <td>1.128180</td>\n",
       "      <td>625.000000</td>\n",
       "    </tr>\n",
       "    <tr>\n",
       "      <th>729</th>\n",
       "      <td>-0.470644</td>\n",
       "      <td>0.957163</td>\n",
       "      <td>769.230769</td>\n",
       "    </tr>\n",
       "    <tr>\n",
       "      <th>730</th>\n",
       "      <td>0.673607</td>\n",
       "      <td>2.079113</td>\n",
       "      <td>937.500000</td>\n",
       "    </tr>\n",
       "  </tbody>\n",
       "</table>\n",
       "<p>731 rows × 3 columns</p>\n",
       "</div>"
      ],
      "text/plain": [
       "     MLII (mV)   V5 (mV)  R-R Interval (ms)\n",
       "0     0.017720 -1.956966         779.220779\n",
       "1     0.830243 -0.475035         895.522388\n",
       "2    -0.393338 -0.631267         625.000000\n",
       "3     0.754272 -0.492413         821.917808\n",
       "4     1.339708 -1.427578         952.380952\n",
       "..         ...       ...                ...\n",
       "726  -2.126399 -0.835561         689.655172\n",
       "727  -1.979595  2.119204         714.285714\n",
       "728  -1.755734  1.128180         625.000000\n",
       "729  -0.470644  0.957163         769.230769\n",
       "730   0.673607  2.079113         937.500000\n",
       "\n",
       "[731 rows x 3 columns]"
      ]
     },
     "execution_count": 276,
     "metadata": {},
     "output_type": "execute_result"
    }
   ],
   "source": [
    "#deviding independent and dependent features\n",
    "df.drop(['HRV (RMSSD, ms)','Date'],axis=1,inplace=True)\n",
    "X=df.drop('Heart Rate (BPM)',axis=1)\n",
    "X"
   ]
  },
  {
   "cell_type": "code",
   "execution_count": 278,
   "id": "cf962460-d4e4-4cd6-83b1-ea9122a64698",
   "metadata": {},
   "outputs": [
    {
     "data": {
      "text/plain": [
       "0      77\n",
       "1      67\n",
       "2      96\n",
       "3      73\n",
       "4      63\n",
       "       ..\n",
       "726    87\n",
       "727    84\n",
       "728    96\n",
       "729    78\n",
       "730    64\n",
       "Name: Heart Rate (BPM), Length: 731, dtype: int64"
      ]
     },
     "execution_count": 278,
     "metadata": {},
     "output_type": "execute_result"
    }
   ],
   "source": [
    "y=df['Heart Rate (BPM)']\n",
    "y"
   ]
  },
  {
   "cell_type": "code",
   "execution_count": 280,
   "id": "92cb4d55-99be-4dad-b5f7-278160c53802",
   "metadata": {},
   "outputs": [
    {
     "data": {
      "image/png": "[encoded data removed]",
      "text/plain": [
       "<Figure size 2000x1500 with 4 Axes>"
      ]
     },
     "metadata": {},
     "output_type": "display_data"
    }
   ],
   "source": [
    "\n",
    "sns.set_style(\"whitegrid\")\n",
    "df.hist(bins=50,figsize=(20,15))\n",
    "plt.show()"
   ]
  },
  {
   "cell_type": "code",
   "execution_count": 281,
   "id": "07376381-8eef-476b-a0b6-96e919ce078b",
   "metadata": {},
   "outputs": [
    {
     "data": {
      "text/html": [
       "<div>\n",
       "<style scoped>\n",
       "    .dataframe tbody tr th:only-of-type {\n",
       "        vertical-align: middle;\n",
       "    }\n",
       "\n",
       "    .dataframe tbody tr th {\n",
       "        vertical-align: top;\n",
       "    }\n",
       "\n",
       "    .dataframe thead th {\n",
       "        text-align: right;\n",
       "    }\n",
       "</style>\n",
       "<table border=\"1\" class=\"dataframe\">\n",
       "  <thead>\n",
       "    <tr style=\"text-align: right;\">\n",
       "      <th></th>\n",
       "      <th>MLII (mV)</th>\n",
       "      <th>V5 (mV)</th>\n",
       "      <th>Heart Rate (BPM)</th>\n",
       "      <th>R-R Interval (ms)</th>\n",
       "    </tr>\n",
       "  </thead>\n",
       "  <tbody>\n",
       "    <tr>\n",
       "      <th>MLII (mV)</th>\n",
       "      <td>1.000000</td>\n",
       "      <td>0.006311</td>\n",
       "      <td>-0.032866</td>\n",
       "      <td>0.033061</td>\n",
       "    </tr>\n",
       "    <tr>\n",
       "      <th>V5 (mV)</th>\n",
       "      <td>0.006311</td>\n",
       "      <td>1.000000</td>\n",
       "      <td>0.005232</td>\n",
       "      <td>-0.006462</td>\n",
       "    </tr>\n",
       "    <tr>\n",
       "      <th>Heart Rate (BPM)</th>\n",
       "      <td>-0.032866</td>\n",
       "      <td>0.005232</td>\n",
       "      <td>1.000000</td>\n",
       "      <td>-0.991358</td>\n",
       "    </tr>\n",
       "    <tr>\n",
       "      <th>R-R Interval (ms)</th>\n",
       "      <td>0.033061</td>\n",
       "      <td>-0.006462</td>\n",
       "      <td>-0.991358</td>\n",
       "      <td>1.000000</td>\n",
       "    </tr>\n",
       "  </tbody>\n",
       "</table>\n",
       "</div>"
      ],
      "text/plain": [
       "                   MLII (mV)   V5 (mV)  Heart Rate (BPM)  R-R Interval (ms)\n",
       "MLII (mV)           1.000000  0.006311         -0.032866           0.033061\n",
       "V5 (mV)             0.006311  1.000000          0.005232          -0.006462\n",
       "Heart Rate (BPM)   -0.032866  0.005232          1.000000          -0.991358\n",
       "R-R Interval (ms)   0.033061 -0.006462         -0.991358           1.000000"
      ]
     },
     "execution_count": 281,
     "metadata": {},
     "output_type": "execute_result"
    }
   ],
   "source": [
    "#correlation \n",
    "df.corr()"
   ]
  },
  {
   "cell_type": "code",
   "execution_count": null,
   "id": "fd70aca7-0f5a-49b8-86d2-3d555ab195a9",
   "metadata": {},
   "outputs": [],
   "source": []
  },
  {
   "cell_type": "code",
   "execution_count": 283,
   "id": "5271d617-f32f-4da5-907c-06a1cfb60d82",
   "metadata": {},
   "outputs": [],
   "source": [
    "# Train Test Split\n",
    "from sklearn.model_selection import train_test_split\n",
    "X_train,X_test,y_train,y_test=train_test_split(X,y,test_size=0.10,random_state=42)"
   ]
  },
  {
   "cell_type": "code",
   "execution_count": 284,
   "id": "2f97ed03-b2a0-499e-8e83-329ac4098f76",
   "metadata": {},
   "outputs": [
    {
     "data": {
      "text/plain": [
       "((657, 3), (74, 3))"
      ]
     },
     "execution_count": 284,
     "metadata": {},
     "output_type": "execute_result"
    }
   ],
   "source": [
    "X_train.shape , X_test.shape"
   ]
  },
  {
   "cell_type": "code",
   "execution_count": 285,
   "id": "e3cc9c09-e281-46bc-8f7e-f3710a787d3f",
   "metadata": {},
   "outputs": [],
   "source": [
    "## feature scaling aand standardistation\n",
    "from sklearn.preprocessing import StandardScaler\n",
    "scaler=StandardScaler()\n",
    "X_train_scaled=scaler.fit_transform(X_train)\n",
    "X_test_scaled=scaler.transform(X_test)\n"
   ]
  },
  {
   "cell_type": "code",
   "execution_count": 286,
   "id": "ae62e196-862a-4326-8b68-7997af76b664",
   "metadata": {},
   "outputs": [
    {
     "data": {
      "text/plain": [
       "array([[ 7.53499962e-01, -1.14041207e-01,  6.43631513e-01],\n",
       "       [-7.29997057e-01, -5.90529260e-01,  4.47394815e-01],\n",
       "       [-5.19746969e-01,  1.33233603e+00, -5.36097342e-01],\n",
       "       ...,\n",
       "       [ 1.65626456e+00, -1.34419556e+00, -1.10892921e+00],\n",
       "       [ 1.08428161e+00,  1.40540225e+00, -5.36097342e-01],\n",
       "       [ 1.49397695e+00, -2.90885625e-01,  8.30534154e-04]])"
      ]
     },
     "execution_count": 286,
     "metadata": {},
     "output_type": "execute_result"
    }
   ],
   "source": [
    "X_train_scaled"
   ]
  },
  {
   "cell_type": "code",
   "execution_count": 287,
   "id": "90ec64f5-a093-4e9b-8fa6-8230b3ee540a",
   "metadata": {},
   "outputs": [
    {
     "data": {
      "text/plain": [
       "Text(0.5, 1.0, 'X_train After Scaling')"
      ]
     },
     "execution_count": 287,
     "metadata": {},
     "output_type": "execute_result"
    },
    {
     "data": {
      "image/png": "[encoded data removed]",
      "text/plain": [
       "<Figure size 1500x500 with 3 Axes>"
      ]
     },
     "metadata": {},
     "output_type": "display_data"
    }
   ],
   "source": [
    "# Box plots to understand effects of standard scaler\n",
    "plt.subplots(figsize=(15,5))\n",
    "plt.subplot(1,2,1)\n",
    "sns.boxplot(data=X_train)\n",
    "plt.title('X_train Before Scaling')\n",
    "plt.subplot(1,2,2)\n",
    "sns.boxplot(data=X_train_scaled)\n",
    "plt.title('X_train After Scaling')"
   ]
  },
  {
   "cell_type": "markdown",
   "id": "f73f9bd9-a499-4bf2-886d-b4ad74f99747",
   "metadata": {},
   "source": [
    "### linear regression model training"
   ]
  },
  {
   "cell_type": "code",
   "execution_count": 308,
   "id": "92260e01-1257-4dfb-b29c-44ff9ebb5a77",
   "metadata": {},
   "outputs": [
    {
     "name": "stdout",
     "output_type": "stream",
     "text": [
      "mean absolute error for training data:  1.3673587990810463\n",
      "R2_Score for training data:  0.9828397879103714\n",
      "mean absolute error for testing data:  1.3224758882884062\n",
      "R2 Score for testing data:  0.9820207834430641\n"
     ]
    }
   ],
   "source": [
    "from sklearn.linear_model import LinearRegression\n",
    "from sklearn.metrics import mean_absolute_error\n",
    "from sklearn.metrics import r2_score\n",
    "linreg=LinearRegression()\n",
    "linreg.fit(X_train_scaled,y_train)\n",
    "y_pred=linreg.predict(X_test_scaled)\n",
    "# for  training data\n",
    "y_train_pred=linreg.predict(X_train_scaled)\n",
    "mae_on_train_data=mean_absolute_error(y_train,y_train_pred)\n",
    "r2_on_trained_data=r2_score(y_train,y_train_pred)\n",
    "print(\"mean absolute error for training data: \",mae_on_train_data)\n",
    "print(\"R2_Score for training data: \",r2_on_trained_data)\n",
    "# for test data\n",
    "mae=mean_absolute_error(y_test,y_pred)\n",
    "score=r2_score(y_test,y_pred)\n",
    "print(\"mean absolute error for testing data: \",mae)\n",
    "print(\"R2 Score for testing data: \",score)"
   ]
  },
  {
   "cell_type": "markdown",
   "id": "0fba05c3-eeed-4dd4-8bf4-a4086fe98bf1",
   "metadata": {},
   "source": [
    "AS BOTH TRAINING AND TESTING DATA ARE HAVING SIMILAR R2 AND MAE SCORE SO ITS NOT OVERFITTING"
   ]
  },
  {
   "cell_type": "code",
   "execution_count": 313,
   "id": "b150a087-193a-4bcb-8dc9-efcd9dfc1193",
   "metadata": {},
   "outputs": [
    {
     "data": {
      "text/plain": [
       "<matplotlib.collections.PathCollection at 0x224134cd940>"
      ]
     },
     "execution_count": 313,
     "metadata": {},
     "output_type": "execute_result"
    },
    {
     "data": {
      "image/png": "[encoded data removed]",
      "text/plain": [
       "<Figure size 640x480 with 1 Axes>"
      ]
     },
     "metadata": {},
     "output_type": "display_data"
    }
   ],
   "source": [
    "#Also we can check it using y_test and y_pred scatter plot\n",
    "plt.scatter(y_test,y_pred)\n",
    "#if the plot follows linear relationship then it is very good model"
   ]
  },
  {
   "cell_type": "markdown",
   "id": "27dd9115-e06c-4562-9bb8-7b0bf1842e6e",
   "metadata": {},
   "source": [
    "## Lasso Regression Model"
   ]
  },
  {
   "cell_type": "code",
   "execution_count": 320,
   "id": "c455c4c0-68bf-4d4b-9bae-e104e75f2a8b",
   "metadata": {},
   "outputs": [
    {
     "name": "stdout",
     "output_type": "stream",
     "text": [
      "mean absolute error for training data:  1.508639255686196\n",
      "R2_Score for training data:  0.9756587911812251\n",
      "mean absolute error for testing data:  1.4408692489736794\n",
      "R2 Score for testing data:  0.9757467678813061\n"
     ]
    },
    {
     "data": {
      "text/plain": [
       "<matplotlib.collections.PathCollection at 0x224118d1c70>"
      ]
     },
     "execution_count": 320,
     "metadata": {},
     "output_type": "execute_result"
    },
    {
     "data": {
      "image/png": "[encoded data removed]",
      "text/plain": [
       "<Figure size 640x480 with 1 Axes>"
      ]
     },
     "metadata": {},
     "output_type": "display_data"
    }
   ],
   "source": [
    "from sklearn.linear_model import Lasso\n",
    "from sklearn.metrics import mean_absolute_error\n",
    "from sklearn.metrics import r2_score\n",
    "lasso=Lasso()\n",
    "lasso.fit(X_train_scaled,y_train)\n",
    "y_pred=lasso.predict(X_test_scaled)\n",
    "# for  training data\n",
    "y_train_pred=lasso.predict(X_train_scaled)\n",
    "mae_on_train_data=mean_absolute_error(y_train,y_train_pred)\n",
    "r2_on_trained_data=r2_score(y_train,y_train_pred)\n",
    "print(\"mean absolute error for training data: \",mae_on_train_data)\n",
    "print(\"R2_Score for training data: \",r2_on_trained_data)\n",
    "# for test data\n",
    "mae=mean_absolute_error(y_test,y_pred)\n",
    "score=r2_score(y_test,y_pred)\n",
    "print(\"mean absolute error for testing data: \",mae)\n",
    "print(\"R2 Score for testing data: \",score)\n",
    "plt.scatter(y_test,y_pred)"
   ]
  },
  {
   "cell_type": "markdown",
   "id": "b38e4c2f-3822-4044-a552-7578a7bc6a1e",
   "metadata": {},
   "source": [
    "## Ridge Regression Model"
   ]
  },
  {
   "cell_type": "code",
   "execution_count": null,
   "id": "d22844d0-bcc5-4721-a390-086cdbbaf76a",
   "metadata": {},
   "outputs": [],
   "source": []
  }
 ],
 "metadata": {
  "kernelspec": {
   "display_name": "Python 3 (ipykernel)",
   "language": "python",
   "name": "python3"
  },
  "language_info": {
   "codemirror_mode": {
    "name": "ipython",
    "version": 3
   },
   "file_extension": ".py",
   "mimetype": "text/x-python",
   "name": "python",
   "nbconvert_exporter": "python",
   "pygments_lexer": "ipython3",
   "version": "3.12.4"
  }
 },
 "nbformat": 4,
 "nbformat_minor": 5
}
